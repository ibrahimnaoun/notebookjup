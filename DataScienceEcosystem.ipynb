{
 "cells": [
  {
   "cell_type": "markdown",
   "id": "46c3bd1e-fe44-4327-bd59-cd8aa4b0b0a1",
   "metadata": {},
   "source": [
    "# Data Science Tools and Ecosystem"
   ]
  },
  {
   "cell_type": "markdown",
   "id": "0bc77998-211f-47a5-a284-ced232227f84",
   "metadata": {},
   "source": [
    "In this notebook, Data Science Tools and Ecosystem are summarized."
   ]
  },
  {
   "cell_type": "markdown",
   "id": "08ff3265-33b4-4071-b6e4-1619e4c6d433",
   "metadata": {},
   "source": [
    "__Objectives:__\n",
    "- List popular languages for Data Science\n",
    "- List  libraries used by Data Scientists\n",
    "- List Data Science Tools\n",
    "- Showing examples of some arithmetic expressions in Python"
   ]
  },
  {
   "cell_type": "markdown",
   "id": "d38a7df7-21f5-42d5-b918-6830518c19c5",
   "metadata": {},
   "source": [
    "Some of the popular languages that Data Scientists use are:\n",
    "1. Python\n",
    "2. R\n",
    "3. C++"
   ]
  },
  {
   "cell_type": "markdown",
   "id": "e083434e-3089-4ad2-bbec-a2517d2dd5e4",
   "metadata": {},
   "source": [
    "Some of the commonly used libraries used by Data Scientists include:\n",
    "1. Matplotlib\n",
    "2. Numpy\n",
    "3. Scipy\n",
    "4. Tensorflow\n"
   ]
  },
  {
   "cell_type": "markdown",
   "id": "d7025f96-d0cc-4ad7-af12-3fef8047eafc",
   "metadata": {},
   "source": [
    "| Data Science Tools |\n",
    "| -------------| \n",
    "| Apache Hadoop |\n",
    "| Apache Spark | \n",
    "| R Studio |"
   ]
  },
  {
   "cell_type": "markdown",
   "id": "f0240905-2cd2-4f72-8622-68d84b3a7b22",
   "metadata": {},
   "source": [
    "### Below are a few examples of evaluating arithmetic expressions in Python:"
   ]
  },
  {
   "cell_type": "code",
   "execution_count": 1,
   "id": "a7ce4551-9e87-474a-b012-b3fadf2aab25",
   "metadata": {},
   "outputs": [
    {
     "data": {
      "text/plain": [
       "17"
      ]
     },
     "execution_count": 1,
     "metadata": {},
     "output_type": "execute_result"
    }
   ],
   "source": [
    "#This a simple arithmetic expression to mutiply then add integers: \n",
    "(3*4)+5"
   ]
  },
  {
   "cell_type": "code",
   "execution_count": 2,
   "id": "15972f6b-188e-48b0-aff6-1a1a27b269ac",
   "metadata": {},
   "outputs": [
    {
     "name": "stdout",
     "output_type": "stream",
     "text": [
      "3.3333333333333335\n"
     ]
    }
   ],
   "source": [
    "#This will convert 200 minutes to hours by diving by 60:\n",
    "minutes=200\n",
    "hours=minutes/60\n",
    "print(hours)"
   ]
  },
  {
   "cell_type": "markdown",
   "id": "5789e9ae-35b9-4f38-ba43-1ac99776d64b",
   "metadata": {},
   "source": [
    "## Author\n",
    "Ibrahim Naoun"
   ]
  },
  {
   "cell_type": "code",
   "execution_count": null,
   "id": "c282a578-fb04-4282-a497-fa9230c2a3a4",
   "metadata": {},
   "outputs": [],
   "source": []
  }
 ],
 "metadata": {
  "kernelspec": {
   "display_name": "Python 3 (ipykernel)",
   "language": "python",
   "name": "python3"
  },
  "language_info": {
   "codemirror_mode": {
    "name": "ipython",
    "version": 3
   },
   "file_extension": ".py",
   "mimetype": "text/x-python",
   "name": "python",
   "nbconvert_exporter": "python",
   "pygments_lexer": "ipython3",
   "version": "3.12.7"
  }
 },
 "nbformat": 4,
 "nbformat_minor": 5
}
